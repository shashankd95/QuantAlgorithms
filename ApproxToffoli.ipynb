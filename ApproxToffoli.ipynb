{
 "cells": [
  {
   "cell_type": "code",
   "execution_count": 129,
   "metadata": {},
   "outputs": [],
   "source": [
    "from qiskit import *\n",
    "import numpy as np\n",
    "from qiskit.visualization import plot_histogram\n",
    "import matplotlib.pyplot as plt\n",
    "from qiskit_aer import AerSimulator\n",
    "from qiskit.circuit.library.standard_gates import XGate, RYGate\n",
    "import qiskit.quantum_info as qi\n",
    "from qutip import *\n",
    "np.set_printoptions(precision = 1)"
   ]
  },
  {
   "cell_type": "markdown",
   "metadata": {},
   "source": [
    "I defined my functions that calculate the Hilbert-Space and I used Qutip to handle some simulatory work"
   ]
  },
  {
   "cell_type": "code",
   "execution_count": 152,
   "metadata": {},
   "outputs": [],
   "source": [
    "def HilSch(matrix_1, matrix_2, n):\n",
    "    Obj1 = Qobj(matrix_1)\n",
    "    Obj2 = Qobj(matrix_2)\n",
    "    return np.sqrt(1-(abs((Obj1.dag()*Obj2).tr())**2)/(2**(2*n)))\n",
    "\n",
    "def MatrixConvertor(circuit):\n",
    "    return np.matrix(qi.Operator(circuit))"
   ]
  },
  {
   "cell_type": "markdown",
   "metadata": {},
   "source": [
    "Defined the Toffoli matrix to compare to"
   ]
  },
  {
   "cell_type": "code",
   "execution_count": 153,
   "metadata": {},
   "outputs": [
    {
     "data": {
      "text/html": [
       "<pre style=\"word-wrap: normal;white-space: pre;background: #fff0;line-height: 1.1;font-family: &quot;Courier New&quot;,Courier,monospace\">          \n",
       "q_0: ──■──\n",
       "       │  \n",
       "q_1: ──■──\n",
       "     ┌─┴─┐\n",
       "q_2: ┤ X ├\n",
       "     └───┘</pre>"
      ],
      "text/plain": [
       "          \n",
       "q_0: ──■──\n",
       "       │  \n",
       "q_1: ──■──\n",
       "     ┌─┴─┐\n",
       "q_2: ┤ X ├\n",
       "     └───┘"
      ]
     },
     "execution_count": 153,
     "metadata": {},
     "output_type": "execute_result"
    }
   ],
   "source": [
    "Toff = QuantumCircuit(3)\n",
    "Toff.ccx(0,1,2)\n",
    "Toff.draw()"
   ]
  },
  {
   "cell_type": "code",
   "execution_count": 154,
   "metadata": {},
   "outputs": [
    {
     "name": "stdout",
     "output_type": "stream",
     "text": [
      "[[1.+0.j 0.+0.j 0.+0.j 0.+0.j 0.+0.j 0.+0.j 0.+0.j 0.+0.j]\n",
      " [0.+0.j 1.+0.j 0.+0.j 0.+0.j 0.+0.j 0.+0.j 0.+0.j 0.+0.j]\n",
      " [0.+0.j 0.+0.j 1.+0.j 0.+0.j 0.+0.j 0.+0.j 0.+0.j 0.+0.j]\n",
      " [0.+0.j 0.+0.j 0.+0.j 0.+0.j 0.+0.j 0.+0.j 0.+0.j 1.+0.j]\n",
      " [0.+0.j 0.+0.j 0.+0.j 0.+0.j 1.+0.j 0.+0.j 0.+0.j 0.+0.j]\n",
      " [0.+0.j 0.+0.j 0.+0.j 0.+0.j 0.+0.j 1.+0.j 0.+0.j 0.+0.j]\n",
      " [0.+0.j 0.+0.j 0.+0.j 0.+0.j 0.+0.j 0.+0.j 1.+0.j 0.+0.j]\n",
      " [0.+0.j 0.+0.j 0.+0.j 1.+0.j 0.+0.j 0.+0.j 0.+0.j 0.+0.j]]\n"
     ]
    }
   ],
   "source": [
    "Toffoli = MatrixConvertor(Toff)\n",
    "print (Toffoli)"
   ]
  },
  {
   "cell_type": "markdown",
   "metadata": {},
   "source": [
    "This circuit is a relative phase circuit and with just 3 two-qubit gates can produce a fairly close Toffoli. For many tries, this remained the bound with just 3-4 two-qubit gates"
   ]
  },
  {
   "cell_type": "code",
   "execution_count": 155,
   "metadata": {},
   "outputs": [
    {
     "data": {
      "text/html": [
       "<pre style=\"word-wrap: normal;white-space: pre;background: #fff0;line-height: 1.1;font-family: &quot;Courier New&quot;,Courier,monospace\">                                                                  \n",
       "q_0: ─────────────────────────────■───────────────────────────────\n",
       "                                  │                               \n",
       "q_1: ─────────────■───────────────┼────────────────■──────────────\n",
       "     ┌─────────┐┌─┴─┐┌─────────┐┌─┴─┐┌──────────┐┌─┴─┐┌──────────┐\n",
       "q_2: ┤ Ry(π/4) ├┤ X ├┤ Ry(π/4) ├┤ X ├┤ Ry(-π/4) ├┤ X ├┤ Ry(-π/4) ├\n",
       "     └─────────┘└───┘└─────────┘└───┘└──────────┘└───┘└──────────┘</pre>"
      ],
      "text/plain": [
       "                                                                  \n",
       "q_0: ─────────────────────────────■───────────────────────────────\n",
       "                                  │                               \n",
       "q_1: ─────────────■───────────────┼────────────────■──────────────\n",
       "     ┌─────────┐┌─┴─┐┌─────────┐┌─┴─┐┌──────────┐┌─┴─┐┌──────────┐\n",
       "q_2: ┤ Ry(π/4) ├┤ X ├┤ Ry(π/4) ├┤ X ├┤ Ry(-π/4) ├┤ X ├┤ Ry(-π/4) ├\n",
       "     └─────────┘└───┘└─────────┘└───┘└──────────┘└───┘└──────────┘"
      ]
     },
     "execution_count": 155,
     "metadata": {},
     "output_type": "execute_result"
    }
   ],
   "source": [
    "circ = QuantumCircuit(3)\n",
    "circ.ry(np.pi/4, 2)\n",
    "circ.cx(1,2)\n",
    "circ.ry(np.pi/4, 2)\n",
    "circ.cx(0,2)\n",
    "circ.ry(-np.pi/4, 2)\n",
    "circ.cx(1,2)\n",
    "circ.ry(-np.pi/4, 2)\n",
    "circ.draw(fold = -1, style = 'ipl')"
   ]
  },
  {
   "cell_type": "code",
   "execution_count": 156,
   "metadata": {},
   "outputs": [
    {
     "name": "stdout",
     "output_type": "stream",
     "text": [
      "0.6614378277661477\n"
     ]
    }
   ],
   "source": [
    "print (HilSch(MatrixConvertor(circ), Toffoli, 3))"
   ]
  },
  {
   "cell_type": "markdown",
   "metadata": {},
   "source": [
    "This is the circuit that Prof Jens' computed in class and evidently is closes to Toffoli with just four two-qubit states"
   ]
  },
  {
   "cell_type": "code",
   "execution_count": 163,
   "metadata": {},
   "outputs": [
    {
     "data": {
      "text/html": [
       "<pre style=\"word-wrap: normal;white-space: pre;background: #fff0;line-height: 1.1;font-family: &quot;Courier New&quot;,Courier,monospace\">                                ┌───┐\n",
       "q_0: ────────────■───────────■──┤ T ├\n",
       "               ┌─┴─┐       ┌─┴─┐└───┘\n",
       "q_1: ───────■──┤ X ├───■───┤ X ├─────\n",
       "     ┌───┐┌─┴─┐└───┘┌──┴──┐├───┤┌───┐\n",
       "q_2: ┤ H ├┤ S ├─────┤ Sdg ├┤ T ├┤ H ├\n",
       "     └───┘└───┘     └─────┘└───┘└───┘</pre>"
      ],
      "text/plain": [
       "                                ┌───┐\n",
       "q_0: ────────────■───────────■──┤ T ├\n",
       "               ┌─┴─┐       ┌─┴─┐└───┘\n",
       "q_1: ───────■──┤ X ├───■───┤ X ├─────\n",
       "     ┌───┐┌─┴─┐└───┘┌──┴──┐├───┤┌───┐\n",
       "q_2: ┤ H ├┤ S ├─────┤ Sdg ├┤ T ├┤ H ├\n",
       "     └───┘└───┘     └─────┘└───┘└───┘"
      ]
     },
     "execution_count": 163,
     "metadata": {},
     "output_type": "execute_result"
    }
   ],
   "source": [
    "circ5 = QuantumCircuit(3)\n",
    "circ5.h(2)\n",
    "circ5.cs(1,2)\n",
    "circ5.cx(0,1)\n",
    "circ5.csdg(1,2)\n",
    "circ5.cx(0,1)\n",
    "circ5.t([0,2])\n",
    "circ5.h(2)\n",
    "circ5.draw(fold = -1)"
   ]
  },
  {
   "cell_type": "code",
   "execution_count": 164,
   "metadata": {},
   "outputs": [
    {
     "name": "stdout",
     "output_type": "stream",
     "text": [
      "0.38268343236509084\n"
     ]
    }
   ],
   "source": [
    "print (HilSch(MatrixConvertor(circ5), Toffoli, 3))"
   ]
  },
  {
   "cell_type": "markdown",
   "metadata": {},
   "source": [
    "This circuit is from Neilson and Chuang and does use extra two-qubit gates, I used it to check if my definitions were correct and to see how close people have really got with free liberty of choosing how many every two-qubit states they need."
   ]
  },
  {
   "cell_type": "code",
   "execution_count": 165,
   "metadata": {},
   "outputs": [
    {
     "data": {
      "text/html": [
       "<pre style=\"word-wrap: normal;white-space: pre;background: #fff0;line-height: 1.1;font-family: &quot;Courier New&quot;,Courier,monospace\">                                                       ┌───┐      \n",
       "q_0: ───────────────────■─────────────────────■────■───┤ T ├───■──\n",
       "                        │             ┌───┐   │  ┌─┴─┐┌┴───┴┐┌─┴─┐\n",
       "q_1: ───────■───────────┼─────────■───┤ T ├───┼──┤ X ├┤ Tdg ├┤ X ├\n",
       "     ┌───┐┌─┴─┐┌─────┐┌─┴─┐┌───┐┌─┴─┐┌┴───┴┐┌─┴─┐├───┤└┬───┬┘└───┘\n",
       "q_2: ┤ H ├┤ X ├┤ Tdg ├┤ X ├┤ T ├┤ X ├┤ Tdg ├┤ X ├┤ T ├─┤ H ├──────\n",
       "     └───┘└───┘└─────┘└───┘└───┘└───┘└─────┘└───┘└───┘ └───┘      </pre>"
      ],
      "text/plain": [
       "                                                       ┌───┐      \n",
       "q_0: ───────────────────■─────────────────────■────■───┤ T ├───■──\n",
       "                        │             ┌───┐   │  ┌─┴─┐┌┴───┴┐┌─┴─┐\n",
       "q_1: ───────■───────────┼─────────■───┤ T ├───┼──┤ X ├┤ Tdg ├┤ X ├\n",
       "     ┌───┐┌─┴─┐┌─────┐┌─┴─┐┌───┐┌─┴─┐┌┴───┴┐┌─┴─┐├───┤└┬───┬┘└───┘\n",
       "q_2: ┤ H ├┤ X ├┤ Tdg ├┤ X ├┤ T ├┤ X ├┤ Tdg ├┤ X ├┤ T ├─┤ H ├──────\n",
       "     └───┘└───┘└─────┘└───┘└───┘└───┘└─────┘└───┘└───┘ └───┘      "
      ]
     },
     "execution_count": 165,
     "metadata": {},
     "output_type": "execute_result"
    }
   ],
   "source": [
    "circ3 = QuantumCircuit(3)\n",
    "circ3.h(2)\n",
    "circ3.cx(1,2)\n",
    "circ3.tdg(2)\n",
    "circ3.cx(0,2)\n",
    "circ3.t(2)\n",
    "circ3.cx(1,2)\n",
    "circ3.tdg(2)\n",
    "circ3.cx(0,2)\n",
    "circ3.t([1,2])\n",
    "circ3.cx(0, 1)\n",
    "circ3.tdg(1)\n",
    "circ3.t(0)\n",
    "circ3.cx(0,1)\n",
    "circ3.h(2)\n",
    "circ3.draw(fold = -1)"
   ]
  },
  {
   "cell_type": "code",
   "execution_count": 166,
   "metadata": {},
   "outputs": [
    {
     "name": "stdout",
     "output_type": "stream",
     "text": [
      "2.1073424255447017e-08\n"
     ]
    }
   ],
   "source": [
    "print (HilSch(MatrixConvertor(circ3), Toffoli, 3))"
   ]
  },
  {
   "cell_type": "markdown",
   "metadata": {},
   "source": [
    "From here, I reduced their circuit by two two-qubit CX gates and got a circuit that is better than relative phase circuits but still worse than Prof Jens' CS gate circuit. With a Hilbert-Schmidt distance of 0.52"
   ]
  },
  {
   "cell_type": "code",
   "execution_count": 180,
   "metadata": {},
   "outputs": [
    {
     "data": {
      "text/html": [
       "<pre style=\"word-wrap: normal;white-space: pre;background: #fff0;line-height: 1.1;font-family: &quot;Courier New&quot;,Courier,monospace\">                                                 ┌───┐     \n",
       "q_0: ───────────────────■─────────────────────■──┤ T ├─────\n",
       "                        │                     │  └───┘     \n",
       "q_1: ───────■───────────┼─────────■───────────┼────────────\n",
       "     ┌───┐┌─┴─┐┌─────┐┌─┴─┐┌───┐┌─┴─┐┌─────┐┌─┴─┐┌───┐┌───┐\n",
       "q_2: ┤ H ├┤ X ├┤ Tdg ├┤ X ├┤ T ├┤ X ├┤ Tdg ├┤ X ├┤ T ├┤ H ├\n",
       "     └───┘└───┘└─────┘└───┘└───┘└───┘└─────┘└───┘└───┘└───┘</pre>"
      ],
      "text/plain": [
       "                                                 ┌───┐     \n",
       "q_0: ───────────────────■─────────────────────■──┤ T ├─────\n",
       "                        │                     │  └───┘     \n",
       "q_1: ───────■───────────┼─────────■───────────┼────────────\n",
       "     ┌───┐┌─┴─┐┌─────┐┌─┴─┐┌───┐┌─┴─┐┌─────┐┌─┴─┐┌───┐┌───┐\n",
       "q_2: ┤ H ├┤ X ├┤ Tdg ├┤ X ├┤ T ├┤ X ├┤ Tdg ├┤ X ├┤ T ├┤ H ├\n",
       "     └───┘└───┘└─────┘└───┘└───┘└───┘└─────┘└───┘└───┘└───┘"
      ]
     },
     "execution_count": 180,
     "metadata": {},
     "output_type": "execute_result"
    }
   ],
   "source": [
    "circ3 = QuantumCircuit(3)\n",
    "circ3.h(2)\n",
    "circ3.cx(1,2)\n",
    "circ3.tdg(2)\n",
    "circ3.cx(0,2)\n",
    "circ3.t(2)\n",
    "circ3.cx(1,2)\n",
    "circ3.tdg(2)\n",
    "circ3.cx(0,2)\n",
    "circ3.t(2)\n",
    "circ3.t(0)\n",
    "circ3.h(2)\n",
    "circ3.draw(fold = -1)"
   ]
  },
  {
   "cell_type": "code",
   "execution_count": 181,
   "metadata": {},
   "outputs": [
    {
     "name": "stdout",
     "output_type": "stream",
     "text": [
      "0.5210053832799876\n"
     ]
    }
   ],
   "source": [
    "print (HilSch(MatrixConvertor(circ3), Toffoli, 3))"
   ]
  }
 ],
 "metadata": {
  "kernelspec": {
   "display_name": "Python 3",
   "language": "python",
   "name": "python3"
  },
  "language_info": {
   "codemirror_mode": {
    "name": "ipython",
    "version": 3
   },
   "file_extension": ".py",
   "mimetype": "text/x-python",
   "name": "python",
   "nbconvert_exporter": "python",
   "pygments_lexer": "ipython3",
   "version": "3.10.13"
  }
 },
 "nbformat": 4,
 "nbformat_minor": 2
}
