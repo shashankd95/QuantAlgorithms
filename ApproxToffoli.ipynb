{
 "cells": [
  {
   "cell_type": "code",
   "execution_count": 2,
   "metadata": {},
   "outputs": [],
   "source": [
    "from qiskit import *\n",
    "import numpy as np\n",
    "from qiskit.visualization import plot_histogram\n",
    "import matplotlib.pyplot as plt\n",
    "from qiskit_aer import AerSimulator\n",
    "from qiskit.circuit.library.standard_gates import XGate, RYGate\n",
    "import qiskit.quantum_info as qi\n",
    "\n",
    "np.set_printoptions(precision = 1)"
   ]
  },
  {
   "cell_type": "code",
   "execution_count": null,
   "metadata": {},
   "outputs": [],
   "source": [
    "def Hil-Sch(matrix_1, matrix_2):\n",
    "    "
   ]
  },
  {
   "cell_type": "code",
   "execution_count": 12,
   "metadata": {},
   "outputs": [
    {
     "name": "stdout",
     "output_type": "stream",
     "text": [
      "[[1.+0.j 0.+0.j 0.+0.j 0.+0.j 0.+0.j 0.+0.j 0.+0.j 0.+0.j]\n",
      " [0.+0.j 1.+0.j 0.+0.j 0.+0.j 0.+0.j 0.+0.j 0.+0.j 0.+0.j]\n",
      " [0.+0.j 0.+0.j 1.+0.j 0.+0.j 0.+0.j 0.+0.j 0.+0.j 0.+0.j]\n",
      " [0.+0.j 0.+0.j 0.+0.j 0.+0.j 0.+0.j 0.+0.j 0.+0.j 1.+0.j]\n",
      " [0.+0.j 0.+0.j 0.+0.j 0.+0.j 1.+0.j 0.+0.j 0.+0.j 0.+0.j]\n",
      " [0.+0.j 0.+0.j 0.+0.j 0.+0.j 0.+0.j 1.+0.j 0.+0.j 0.+0.j]\n",
      " [0.+0.j 0.+0.j 0.+0.j 0.+0.j 0.+0.j 0.+0.j 1.+0.j 0.+0.j]\n",
      " [0.+0.j 0.+0.j 0.+0.j 1.+0.j 0.+0.j 0.+0.j 0.+0.j 0.+0.j]]\n"
     ]
    }
   ],
   "source": [
    "circ = QuantumCircuit(3)\n",
    "circ.ccx(0,1,2)\n",
    "circ.draw()\n",
    "\n",
    "matrix1 = np.matrix(qi.Operator(circ))\n",
    "print (matrix1)"
   ]
  },
  {
   "cell_type": "code",
   "execution_count": 13,
   "metadata": {},
   "outputs": [
    {
     "name": "stdout",
     "output_type": "stream",
     "text": [
      "[[ 1.0e+00+0.j  0.0e+00+0.j  0.0e+00+0.j  0.0e+00+0.j -5.6e-17+0.j\n",
      "   0.0e+00+0.j  0.0e+00+0.j  0.0e+00+0.j]\n",
      " [ 0.0e+00+0.j  1.0e+00+0.j  0.0e+00+0.j  0.0e+00+0.j  0.0e+00+0.j\n",
      "  -1.1e-16+0.j  0.0e+00+0.j  0.0e+00+0.j]\n",
      " [ 0.0e+00+0.j  0.0e+00+0.j  1.0e+00+0.j  0.0e+00+0.j  0.0e+00+0.j\n",
      "   0.0e+00+0.j  0.0e+00+0.j  0.0e+00+0.j]\n",
      " [ 0.0e+00+0.j  0.0e+00+0.j  0.0e+00+0.j  0.0e+00+0.j  0.0e+00+0.j\n",
      "   0.0e+00+0.j  0.0e+00+0.j  1.0e+00+0.j]\n",
      " [ 5.6e-17+0.j  0.0e+00+0.j  0.0e+00+0.j  0.0e+00+0.j  1.0e+00+0.j\n",
      "   0.0e+00+0.j  0.0e+00+0.j  0.0e+00+0.j]\n",
      " [ 0.0e+00+0.j -1.1e-16+0.j  0.0e+00+0.j  0.0e+00+0.j  0.0e+00+0.j\n",
      "  -1.0e+00+0.j  0.0e+00+0.j  0.0e+00+0.j]\n",
      " [ 0.0e+00+0.j  0.0e+00+0.j  0.0e+00+0.j  0.0e+00+0.j  0.0e+00+0.j\n",
      "   0.0e+00+0.j  1.0e+00+0.j  0.0e+00+0.j]\n",
      " [ 0.0e+00+0.j  0.0e+00+0.j  0.0e+00+0.j  1.0e+00+0.j  0.0e+00+0.j\n",
      "   0.0e+00+0.j  0.0e+00+0.j  0.0e+00+0.j]]\n"
     ]
    }
   ],
   "source": [
    "circ = QuantumCircuit(3)\n",
    "circ.ry(np.pi/4, 2)\n",
    "circ.cx(1,2)\n",
    "circ.ry(np.pi/4, 2)\n",
    "circ.cx(0,2)\n",
    "circ.ry(-np.pi/4, 2)\n",
    "circ.cx(1,2)\n",
    "circ.ry(-np.pi/4, 2)\n",
    "circ.draw()\n",
    "\n",
    "matrix2 = np.matrix(qi.Operator(circ))\n",
    "print (matrix2)"
   ]
  },
  {
   "cell_type": "code",
   "execution_count": null,
   "metadata": {},
   "outputs": [],
   "source": []
  }
 ],
 "metadata": {
  "kernelspec": {
   "display_name": "Python 3",
   "language": "python",
   "name": "python3"
  },
  "language_info": {
   "codemirror_mode": {
    "name": "ipython",
    "version": 3
   },
   "file_extension": ".py",
   "mimetype": "text/x-python",
   "name": "python",
   "nbconvert_exporter": "python",
   "pygments_lexer": "ipython3",
   "version": "3.11.5"
  }
 },
 "nbformat": 4,
 "nbformat_minor": 2
}
